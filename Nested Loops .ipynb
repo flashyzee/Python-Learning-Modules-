{
 "cells": [
  {
   "cell_type": "code",
   "execution_count": 6,
   "id": "83822ae2",
   "metadata": {},
   "outputs": [],
   "source": [
    "#nested loops = The \"inner loop\" will finish all of \n",
    "#it's iterations before finishing one iteration of the \"outer loop\""
   ]
  },
  {
   "cell_type": "code",
   "execution_count": 7,
   "id": "41561166",
   "metadata": {},
   "outputs": [],
   "source": [
    "#rows = int(input( \"How many rows? : \"))\n",
    "#columns = int(input( \"How many columns? : \"))\n",
    "#symbol = input( \"Enter a symbol to use: \")"
   ]
  },
  {
   "cell_type": "code",
   "execution_count": 8,
   "id": "1f15991a",
   "metadata": {},
   "outputs": [],
   "source": [
    "#for i in range (rows):\n",
    "#    for j in range (columns):\n",
    "#        print(symbol, end=\"\")\n",
    "#    print()"
   ]
  },
  {
   "cell_type": "code",
   "execution_count": 9,
   "id": "44fd66f0",
   "metadata": {},
   "outputs": [],
   "source": [
    "#Loop Control Statements = change a loops execution from its normal sequence "
   ]
  },
  {
   "cell_type": "code",
   "execution_count": 10,
   "id": "fb14422b",
   "metadata": {},
   "outputs": [],
   "source": [
    "#break = used to terminate the loop entirely \n",
    "#continue = skips to the next iteration of the loop \n",
    "#pass = does nothing, acts as a placeholder "
   ]
  },
  {
   "cell_type": "code",
   "execution_count": 11,
   "id": "e0372059",
   "metadata": {},
   "outputs": [],
   "source": [
    "while True:\n",
    "    name = input(\"Enter your name: \")\n",
    "    if name != \"\":\n",
    "        break "
   ]
  },
  {
   "cell_type": "code",
   "execution_count": null,
   "id": "eba20e97",
   "metadata": {},
   "outputs": [],
   "source": [
    "phone_number = \"123-456-7890\""
   ]
  },
  {
   "cell_type": "code",
   "execution_count": null,
   "id": "88011740",
   "metadata": {},
   "outputs": [
    {
     "name": "stdout",
     "output_type": "stream",
     "text": [
      "1234567890"
     ]
    }
   ],
   "source": [
    "for i in phone_number:\n",
    "    if i == \"-\":\n",
    "        continue\n",
    "    print(i, end=\"\")"
   ]
  },
  {
   "cell_type": "code",
   "execution_count": null,
   "id": "20181730",
   "metadata": {},
   "outputs": [
    {
     "ename": "SyntaxError",
     "evalue": "invalid syntax (3019814458.py, line 2)",
     "output_type": "error",
     "traceback": [
      "\u001b[0;36m  Cell \u001b[0;32mIn[36], line 2\u001b[0;36m\u001b[0m\n\u001b[0;31m    for i == 13:\u001b[0m\n\u001b[0m          ^\u001b[0m\n\u001b[0;31mSyntaxError\u001b[0m\u001b[0;31m:\u001b[0m invalid syntax\n"
     ]
    }
   ],
   "source": [
    "#for i in range (1, 21):\n",
    "#    for i == 13:\n",
    "#        pass\n",
    "#    else:\n",
    "#        print()"
   ]
  },
  {
   "cell_type": "code",
   "execution_count": null,
   "id": "a3c0ac6e",
   "metadata": {},
   "outputs": [],
   "source": [
    "#list = used to store multiple items in a single variable"
   ]
  },
  {
   "cell_type": "code",
   "execution_count": null,
   "id": "c144330c",
   "metadata": {},
   "outputs": [],
   "source": [
    "food = [\"pizza\", \"hamburger\", \"hotdog\", \"spaghetti\", \"pudding\"]"
   ]
  },
  {
   "cell_type": "code",
   "execution_count": null,
   "id": "ad09552c",
   "metadata": {},
   "outputs": [
    {
     "name": "stdout",
     "output_type": "stream",
     "text": [
      "pizza\n"
     ]
    }
   ],
   "source": [
    "print(food[0])"
   ]
  },
  {
   "cell_type": "code",
   "execution_count": null,
   "id": "5cdb8a97",
   "metadata": {},
   "outputs": [],
   "source": [
    "#This is a command that replace existing values in a list variable_name[index_num] = \"new_value\""
   ]
  },
  {
   "cell_type": "code",
   "execution_count": null,
   "id": "316e37d5",
   "metadata": {},
   "outputs": [],
   "source": [
    "food[0] = \"sushi\" "
   ]
  },
  {
   "cell_type": "code",
   "execution_count": null,
   "id": "f9d8439f",
   "metadata": {},
   "outputs": [
    {
     "name": "stdout",
     "output_type": "stream",
     "text": [
      "sushi\n"
     ]
    }
   ],
   "source": [
    "print(food[0])"
   ]
  },
  {
   "cell_type": "code",
   "execution_count": null,
   "id": "0f23104b",
   "metadata": {},
   "outputs": [
    {
     "name": "stdout",
     "output_type": "stream",
     "text": [
      "sushi\n",
      "hamburger\n",
      "hotdog\n",
      "spaghetti\n",
      "pudding\n"
     ]
    }
   ],
   "source": [
    "for x in food:\n",
    "    print(x)"
   ]
  },
  {
   "cell_type": "code",
   "execution_count": null,
   "id": "463996f0",
   "metadata": {},
   "outputs": [],
   "source": [
    "# This is a command that add values to existing values - .append"
   ]
  },
  {
   "cell_type": "code",
   "execution_count": null,
   "id": "5533a515",
   "metadata": {},
   "outputs": [],
   "source": [
    "food.append(\"ice cream\")"
   ]
  },
  {
   "cell_type": "code",
   "execution_count": null,
   "id": "28d858f5",
   "metadata": {},
   "outputs": [],
   "source": [
    "#This is a command that delete values from existing values - .remove"
   ]
  },
  {
   "cell_type": "code",
   "execution_count": null,
   "id": "daab30b6",
   "metadata": {},
   "outputs": [],
   "source": [
    "food.remove(\"hotdog\")"
   ]
  },
  {
   "cell_type": "code",
   "execution_count": null,
   "id": "503ae06d",
   "metadata": {},
   "outputs": [
    {
     "name": "stdout",
     "output_type": "stream",
     "text": [
      "['cake', 'hamburger', 'pudding', 'spaghetti', 'sushi']\n"
     ]
    }
   ],
   "source": [
    "print(food)"
   ]
  },
  {
   "cell_type": "code",
   "execution_count": null,
   "id": "657c6fa7",
   "metadata": {},
   "outputs": [],
   "source": [
    "#This is a way to remove the last element within the existing values - .pop()"
   ]
  },
  {
   "cell_type": "code",
   "execution_count": null,
   "id": "307a2170",
   "metadata": {},
   "outputs": [
    {
     "data": {
      "text/plain": [
       "'ice cream'"
      ]
     },
     "execution_count": 58,
     "metadata": {},
     "output_type": "execute_result"
    }
   ],
   "source": [
    "food.pop()"
   ]
  },
  {
   "cell_type": "code",
   "execution_count": null,
   "id": "6de9e5d1",
   "metadata": {},
   "outputs": [],
   "source": [
    "#A command that adds a new element at a given index - .insert "
   ]
  },
  {
   "cell_type": "code",
   "execution_count": null,
   "id": "ac618788",
   "metadata": {},
   "outputs": [],
   "source": [
    "food.insert(0, \"cake\")"
   ]
  },
  {
   "cell_type": "code",
   "execution_count": null,
   "id": "2ce75055",
   "metadata": {},
   "outputs": [],
   "source": [
    "#This is a command that sorts the list alphabetically - .sort()"
   ]
  },
  {
   "cell_type": "code",
   "execution_count": null,
   "id": "1dbafd8d",
   "metadata": {},
   "outputs": [],
   "source": [
    "food.sort()"
   ]
  },
  {
   "cell_type": "code",
   "execution_count": null,
   "id": "6e7a3a5a",
   "metadata": {},
   "outputs": [
    {
     "name": "stdout",
     "output_type": "stream",
     "text": [
      "cake\n",
      "hamburger\n",
      "pudding\n",
      "spaghetti\n",
      "sushi\n"
     ]
    }
   ],
   "source": [
    "for x in food:\n",
    "    print(x)"
   ]
  },
  {
   "cell_type": "code",
   "execution_count": null,
   "id": "316a7525",
   "metadata": {},
   "outputs": [],
   "source": [
    "#2D lists = a list of lists"
   ]
  },
  {
   "cell_type": "code",
   "execution_count": null,
   "id": "eb4508b0",
   "metadata": {},
   "outputs": [],
   "source": [
    "drinks = [\"coffee\", \"soda\", \"tea\"]\n",
    "dinner = [\"pizza\", \"harmburger\", \"hotdog\"]\n",
    "dessert = [\"cake\", \"ice cream\"]"
   ]
  },
  {
   "cell_type": "code",
   "execution_count": null,
   "id": "92386409",
   "metadata": {},
   "outputs": [],
   "source": [
    "food = [drinks,dinner,dessert]"
   ]
  },
  {
   "cell_type": "code",
   "execution_count": null,
   "id": "4c16a037",
   "metadata": {},
   "outputs": [
    {
     "name": "stdout",
     "output_type": "stream",
     "text": [
      "[['coffee', 'soda', 'tea'], ['pizza', 'harmburger', 'hotdog'], ['cake', 'ice cream']]\n"
     ]
    }
   ],
   "source": [
    "print (food)"
   ]
  },
  {
   "cell_type": "code",
   "execution_count": null,
   "id": "ca3769d4",
   "metadata": {},
   "outputs": [
    {
     "name": "stdout",
     "output_type": "stream",
     "text": [
      "pizza\n"
     ]
    }
   ],
   "source": [
    "print(food[1][0])"
   ]
  },
  {
   "cell_type": "code",
   "execution_count": null,
   "id": "f160c8c4",
   "metadata": {},
   "outputs": [],
   "source": [
    "#tuple = collection which is ordered and unchangeable used to group unrelated data"
   ]
  },
  {
   "cell_type": "code",
   "execution_count": null,
   "id": "ba830228",
   "metadata": {},
   "outputs": [],
   "source": [
    "student = (\"Bro\", 21, \"male\")"
   ]
  },
  {
   "cell_type": "code",
   "execution_count": null,
   "id": "3c2e9e94",
   "metadata": {},
   "outputs": [
    {
     "name": "stdout",
     "output_type": "stream",
     "text": [
      "1\n"
     ]
    }
   ],
   "source": [
    "print(student.count(\"Bro\"))"
   ]
  },
  {
   "cell_type": "code",
   "execution_count": null,
   "id": "a51178ec",
   "metadata": {},
   "outputs": [
    {
     "name": "stdout",
     "output_type": "stream",
     "text": [
      "0\n"
     ]
    }
   ],
   "source": [
    "print(student.index(\"Bro\"))"
   ]
  },
  {
   "cell_type": "code",
   "execution_count": null,
   "id": "31c07849",
   "metadata": {},
   "outputs": [
    {
     "name": "stdout",
     "output_type": "stream",
     "text": [
      "Bro\n",
      "21\n",
      "male\n"
     ]
    }
   ],
   "source": [
    "for x in student:\n",
    "    print(x)"
   ]
  },
  {
   "cell_type": "code",
   "execution_count": null,
   "id": "9119ba61",
   "metadata": {},
   "outputs": [
    {
     "name": "stdout",
     "output_type": "stream",
     "text": [
      "Bro is here!\n"
     ]
    }
   ],
   "source": [
    "if \"Bro\" in student:\n",
    "    print(\"Bro is here!\")"
   ]
  },
  {
   "cell_type": "code",
   "execution_count": null,
   "id": "ff7430fa",
   "metadata": {},
   "outputs": [],
   "source": [
    "#sets = collection which is unordered, unindexed. No duplicate values."
   ]
  },
  {
   "cell_type": "code",
   "execution_count": null,
   "id": "cc78bf08",
   "metadata": {},
   "outputs": [],
   "source": [
    "utensils = {\"knife\", \"spoon\", \"fork\"}\n",
    "dishes = {\"bowl\", \"plate\", \"cup\"}"
   ]
  },
  {
   "cell_type": "code",
   "execution_count": null,
   "id": "90043f30",
   "metadata": {},
   "outputs": [
    {
     "name": "stdout",
     "output_type": "stream",
     "text": [
      "spoon\n",
      "fork\n",
      "knife\n"
     ]
    }
   ],
   "source": [
    "for x in utensils:\n",
    "    print(x)"
   ]
  },
  {
   "cell_type": "code",
   "execution_count": null,
   "id": "b58dec91",
   "metadata": {},
   "outputs": [],
   "source": [
    "utensils.add(\"napkin\")"
   ]
  },
  {
   "cell_type": "code",
   "execution_count": null,
   "id": "14855afe",
   "metadata": {},
   "outputs": [],
   "source": [
    "utensils.remove(\"fork\")"
   ]
  },
  {
   "cell_type": "code",
   "execution_count": null,
   "id": "28b45a99",
   "metadata": {},
   "outputs": [],
   "source": [
    "utensils.clear()"
   ]
  },
  {
   "cell_type": "code",
   "execution_count": null,
   "id": "a11b9f74",
   "metadata": {},
   "outputs": [],
   "source": [
    "utensils.update(dishes)"
   ]
  },
  {
   "cell_type": "code",
   "execution_count": null,
   "id": "ef34b5dc",
   "metadata": {},
   "outputs": [],
   "source": [
    "dishes.update(utensils)"
   ]
  },
  {
   "cell_type": "code",
   "execution_count": null,
   "id": "6396a384",
   "metadata": {},
   "outputs": [
    {
     "name": "stdout",
     "output_type": "stream",
     "text": [
      "cup\n",
      "fork\n",
      "plate\n",
      "knife\n",
      "bowl\n",
      "spoon\n"
     ]
    }
   ],
   "source": [
    "for x in dishes:\n",
    "    print(x)"
   ]
  },
  {
   "cell_type": "code",
   "execution_count": null,
   "id": "73eb82f9",
   "metadata": {},
   "outputs": [],
   "source": [
    "dinner_table = utensils.union(dishes)"
   ]
  },
  {
   "cell_type": "code",
   "execution_count": null,
   "id": "cb1821da",
   "metadata": {},
   "outputs": [
    {
     "name": "stdout",
     "output_type": "stream",
     "text": [
      "spoon\n",
      "bowl\n",
      "plate\n",
      "fork\n",
      "cup\n",
      "napkin\n",
      "knife\n"
     ]
    }
   ],
   "source": [
    "for x in dinner_table:\n",
    "    print(x)"
   ]
  },
  {
   "cell_type": "code",
   "execution_count": null,
   "id": "22ae7b8f",
   "metadata": {},
   "outputs": [
    {
     "name": "stdout",
     "output_type": "stream",
     "text": [
      "{'spoon', 'napkin', 'fork', 'knife'}\n"
     ]
    }
   ],
   "source": [
    "print(utensils.difference(dishes))"
   ]
  },
  {
   "cell_type": "code",
   "execution_count": null,
   "id": "1306bc3e",
   "metadata": {},
   "outputs": [
    {
     "name": "stdout",
     "output_type": "stream",
     "text": [
      "cup\n",
      "fork\n",
      "plate\n",
      "knife\n",
      "bowl\n",
      "spoon\n"
     ]
    }
   ],
   "source": [
    "for x in dinner_table:\n",
    "    print(x)"
   ]
  },
  {
   "cell_type": "code",
   "execution_count": null,
   "id": "799f07ec",
   "metadata": {},
   "outputs": [
    {
     "name": "stdout",
     "output_type": "stream",
     "text": [
      "set()\n"
     ]
    }
   ],
   "source": [
    "print(dishes.difference(utensils))"
   ]
  },
  {
   "cell_type": "code",
   "execution_count": null,
   "id": "03368810",
   "metadata": {},
   "outputs": [
    {
     "name": "stdout",
     "output_type": "stream",
     "text": [
      "{'plate', 'bowl', 'cup'}\n"
     ]
    }
   ],
   "source": [
    "print(utensils.intersection(dishes))"
   ]
  }
 ],
 "metadata": {
  "kernelspec": {
   "display_name": "Python 3 (ipykernel)",
   "language": "python",
   "name": "python3"
  },
  "language_info": {
   "codemirror_mode": {
    "name": "ipython",
    "version": 3
   },
   "file_extension": ".py",
   "mimetype": "text/x-python",
   "name": "python",
   "nbconvert_exporter": "python",
   "pygments_lexer": "ipython3",
   "version": "3.9.6"
  }
 },
 "nbformat": 4,
 "nbformat_minor": 5
}
