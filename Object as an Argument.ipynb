{
 "cells": [
  {
   "cell_type": "code",
   "execution_count": 2,
   "metadata": {},
   "outputs": [
    {
     "name": "stdout",
     "output_type": "stream",
     "text": [
      "red\n",
      "white\n",
      "blue\n",
      "black\n"
     ]
    }
   ],
   "source": [
    "class Car:\n",
    "\n",
    "    color = None\n",
    "\n",
    "class Mortocycle:\n",
    "\n",
    "    color = None\n",
    "\n",
    "def change_color(vehicle,color):\n",
    "    vehicle.color = color\n",
    "\n",
    "car_1 = Car()\n",
    "car_2 = Car()\n",
    "car_3 = Car()\n",
    "\n",
    "bike_1 = Mortocycle()\n",
    "\n",
    "change_color(car_1,\"red\")\n",
    "change_color(car_2,\"white\")\n",
    "change_color(car_3,\"blue\")\n",
    "change_color(bike_1,\"black\")\n",
    "\n",
    "print(car_1.color)\n",
    "print(car_2.color)\n",
    "print(car_3.color)\n",
    "print(bike_1.color)"
   ]
  }
 ],
 "metadata": {
  "kernelspec": {
   "display_name": "Python 3",
   "language": "python",
   "name": "python3"
  },
  "language_info": {
   "codemirror_mode": {
    "name": "ipython",
    "version": 3
   },
   "file_extension": ".py",
   "mimetype": "text/x-python",
   "name": "python",
   "nbconvert_exporter": "python",
   "pygments_lexer": "ipython3",
   "version": "3.9.6"
  }
 },
 "nbformat": 4,
 "nbformat_minor": 2
}
