{
 "cells": [
  {
   "cell_type": "code",
   "execution_count": 24,
   "id": "3aaf5deb",
   "metadata": {},
   "outputs": [],
   "source": [
    "import os "
   ]
  },
  {
   "cell_type": "code",
   "execution_count": 23,
   "id": "3ef198b4",
   "metadata": {},
   "outputs": [],
   "source": [
    "path = \"/Users/zionadedipe/Downloads/test.txt\""
   ]
  },
  {
   "cell_type": "code",
   "execution_count": 22,
   "id": "e382b123",
   "metadata": {},
   "outputs": [
    {
     "name": "stdout",
     "output_type": "stream",
     "text": [
      "That location exists\n",
      "That is a file\n"
     ]
    }
   ],
   "source": [
    "if os.path.exists(path):\n",
    "    print(\"That location exists\")\n",
    "    if os.path.isfile(path):\n",
    "        print(\"That is a file\")\n",
    "    elif os.path.isdir(path):\n",
    "        print(\"That is a directory!\")\n",
    "else:\n",
    "    print(\"That location doesn't exist\")"
   ]
  },
  {
   "cell_type": "code",
   "execution_count": 17,
   "id": "fc2f22de",
   "metadata": {},
   "outputs": [],
   "source": [
    "#How to read a file "
   ]
  },
  {
   "cell_type": "code",
   "execution_count": 21,
   "id": "1ffd404a",
   "metadata": {},
   "outputs": [
    {
     "name": "stdout",
     "output_type": "stream",
     "text": [
      "Uh oh! This text has been overwritten Have a nice day! See ya\n"
     ]
    }
   ],
   "source": [
    "try:\n",
    "    with open(\"/Users/zionadedipe/Downloads/test.txt\") as file:\n",
    "        print(file.read())\n",
    "\n",
    "except FileNotFoundError:\n",
    "    print(\"That file was not found\")"
   ]
  },
  {
   "cell_type": "code",
   "execution_count": 11,
   "id": "9c279009",
   "metadata": {},
   "outputs": [
    {
     "name": "stdout",
     "output_type": "stream",
     "text": [
      "True\n"
     ]
    }
   ],
   "source": [
    "print(file.closed)"
   ]
  },
  {
   "cell_type": "code",
   "execution_count": null,
   "id": "726dc035",
   "metadata": {},
   "outputs": [],
   "source": [
    "#How to get the CWD - Current Working Directory "
   ]
  },
  {
   "cell_type": "code",
   "execution_count": 22,
   "id": "1b282284",
   "metadata": {},
   "outputs": [
    {
     "name": "stdout",
     "output_type": "stream",
     "text": [
      "Current working directory: /Users/zionadedipe/Desktop/MyPython files\n"
     ]
    }
   ],
   "source": [
    "import os\n",
    "\n",
    "# Get the current working directory\n",
    "current_directory = os.getcwd()\n",
    "\n",
    "# Print the current working directory\n",
    "print(\"Current working directory:\", current_directory)\n"
   ]
  },
  {
   "cell_type": "code",
   "execution_count": null,
   "id": "0f91b145",
   "metadata": {},
   "outputs": [],
   "source": [
    "#How to write files in Python"
   ]
  },
  {
   "cell_type": "code",
   "execution_count": 7,
   "id": "4d4f2d1c",
   "metadata": {},
   "outputs": [],
   "source": [
    "text = \" Have a nice day! See ya\"\n",
    "\n",
    "with open('/Users/zionadedipe/Downloads/test.txt', 'a') as file:\n",
    "    file.write(text)"
   ]
  },
  {
   "cell_type": "code",
   "execution_count": null,
   "id": "f4bc24fe",
   "metadata": {},
   "outputs": [],
   "source": [
    "# 'a'mode is to append a new text \n",
    "# 'w' mode is to write something"
   ]
  },
  {
   "cell_type": "code",
   "execution_count": null,
   "id": "5049a7ca",
   "metadata": {},
   "outputs": [],
   "source": []
  },
  {
   "cell_type": "code",
   "execution_count": null,
   "id": "cb5cb621",
   "metadata": {},
   "outputs": [],
   "source": [
    "#How to copy files in Python"
   ]
  },
  {
   "cell_type": "code",
   "execution_count": null,
   "id": "3b598291",
   "metadata": {},
   "outputs": [],
   "source": [
    "#copyfile() = copies contents of a file\n",
    "#copy() = copyfile() + permission mode + destination can be a directory\n",
    "#copy2()= copy() + copies metadata (file's creation and modification time)"
   ]
  },
  {
   "cell_type": "code",
   "execution_count": 30,
   "id": "ff5ae352",
   "metadata": {},
   "outputs": [],
   "source": [
    "import shutil"
   ]
  },
  {
   "cell_type": "code",
   "execution_count": 36,
   "id": "af951852",
   "metadata": {},
   "outputs": [
    {
     "data": {
      "text/plain": [
       "'copy.txt'"
      ]
     },
     "execution_count": 36,
     "metadata": {},
     "output_type": "execute_result"
    }
   ],
   "source": [
    "import shutil\n",
    "\n",
    "shutil.copyfile('/Users/zionadedipe/Downloads/test.txt', 'copy.txt')  # src, dst\n"
   ]
  },
  {
   "cell_type": "code",
   "execution_count": null,
   "id": "551b6083",
   "metadata": {},
   "outputs": [],
   "source": [
    "#How to check if the new file as been created"
   ]
  },
  {
   "cell_type": "code",
   "execution_count": 37,
   "id": "88961a4f",
   "metadata": {},
   "outputs": [
    {
     "name": "stdout",
     "output_type": "stream",
     "text": [
      "File 'copy.txt' has been successfully copied.\n"
     ]
    }
   ],
   "source": [
    "import shutil\n",
    "import os\n",
    "\n",
    "source_path = '/Users/zionadedipe/Downloads/test.txt'\n",
    "destination_path = 'copy.txt'\n",
    "\n",
    "shutil.copyfile(source_path, destination_path)\n",
    "\n",
    "# Check if the destination file exists\n",
    "if os.path.exists(destination_path):\n",
    "    print(f\"File '{destination_path}' has been successfully copied.\")\n",
    "else:\n",
    "    print(f\"Failed to copy file.\")\n"
   ]
  },
  {
   "cell_type": "code",
   "execution_count": null,
   "id": "a7be436e",
   "metadata": {},
   "outputs": [],
   "source": [
    "#How to move files in Python"
   ]
  },
  {
   "cell_type": "code",
   "execution_count": 21,
   "id": "627844e1",
   "metadata": {},
   "outputs": [],
   "source": [
    "import os "
   ]
  },
  {
   "cell_type": "code",
   "execution_count": 27,
   "id": "a9bc3de7",
   "metadata": {},
   "outputs": [],
   "source": [
    "source = \"/Users/zionadedipe/Downloads/test.txt\"\n",
    "destination = \"/Users/zionadedipe/Desktop/testing\""
   ]
  },
  {
   "cell_type": "code",
   "execution_count": 29,
   "id": "cacf70e2",
   "metadata": {},
   "outputs": [
    {
     "name": "stdout",
     "output_type": "stream",
     "text": [
      "There is already a file there\n"
     ]
    }
   ],
   "source": [
    "source = \"/Users/zionadedipe/Downloads/test.txt\"\n",
    "destination = \"/Users/zionadedipe/Desktop/testing\"\n",
    "\n",
    "try:\n",
    "    if os.path.exists(destination):\n",
    "        print(\"There is already a file there\")\n",
    "    else:\n",
    "        os.replace(source, destination)  # Corrected line\n",
    "        print(source + \" was moved\")\n",
    "except FileNotFoundError:\n",
    "    print(source + \" was not found\")\n"
   ]
  },
  {
   "cell_type": "code",
   "execution_count": null,
   "id": "8612d689",
   "metadata": {},
   "outputs": [],
   "source": [
    "#How to delete files using Python\n",
    "#os.remove()permanently deletes the file."
   ]
  },
  {
   "cell_type": "code",
   "execution_count": 34,
   "id": "29d76eb5",
   "metadata": {},
   "outputs": [],
   "source": [
    "import os\n",
    "import shutil"
   ]
  },
  {
   "cell_type": "code",
   "execution_count": 35,
   "id": "974c52a8",
   "metadata": {},
   "outputs": [],
   "source": [
    "path = \"/Users/zionadedipe/Desktop/folder\""
   ]
  },
  {
   "cell_type": "code",
   "execution_count": 37,
   "id": "3be03bd1",
   "metadata": {},
   "outputs": [
    {
     "name": "stdout",
     "output_type": "stream",
     "text": [
      "/Users/zionadedipe/Desktop/folder was deleted\n"
     ]
    }
   ],
   "source": [
    "try:\n",
    "    #os.remove(path)\n",
    "    #os.rmdir(path)\n",
    "    shutil.rmtree(path)\n",
    "\n",
    "except FileNotFoundError:\n",
    "    print(\"File not found!\")\n",
    "    \n",
    "except PermissionError:\n",
    "    print(\"You do not have permission to delete that!\")\n",
    "    \n",
    "except OSError:\n",
    "    print(\"You cannot delete that using that function\")\n",
    "    \n",
    "else:\n",
    "    print(path+\" was deleted\")\n",
    "\n"
   ]
  },
  {
   "cell_type": "code",
   "execution_count": 13,
   "id": "1b59ab68",
   "metadata": {},
   "outputs": [],
   "source": [
    "#os.remove('test.txt')"
   ]
  }
 ],
 "metadata": {
  "kernelspec": {
   "display_name": "Python 3 (ipykernel)",
   "language": "python",
   "name": "python3"
  },
  "language_info": {
   "codemirror_mode": {
    "name": "ipython",
    "version": 3
   },
   "file_extension": ".py",
   "mimetype": "text/x-python",
   "name": "python",
   "nbconvert_exporter": "python",
   "pygments_lexer": "ipython3",
   "version": "3.11.5"
  }
 },
 "nbformat": 4,
 "nbformat_minor": 5
}
