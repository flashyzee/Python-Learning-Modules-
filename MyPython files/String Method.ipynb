{
 "cells": [
  {
   "cell_type": "code",
   "execution_count": 3,
   "id": "16fe5353",
   "metadata": {},
   "outputs": [],
   "source": [
    "message = \"hello world\""
   ]
  },
  {
   "cell_type": "code",
   "execution_count": 4,
   "id": "2be272ab",
   "metadata": {},
   "outputs": [
    {
     "data": {
      "text/plain": [
       "'HELLO WORLD'"
      ]
     },
     "execution_count": 4,
     "metadata": {},
     "output_type": "execute_result"
    }
   ],
   "source": [
    "message.upper()"
   ]
  },
  {
   "cell_type": "code",
   "execution_count": 5,
   "id": "ee6a51c1",
   "metadata": {},
   "outputs": [
    {
     "data": {
      "text/plain": [
       "'HELLO WORLD'"
      ]
     },
     "execution_count": 5,
     "metadata": {},
     "output_type": "execute_result"
    }
   ],
   "source": [
    "\"hello world\".upper()"
   ]
  },
  {
   "cell_type": "code",
   "execution_count": 6,
   "id": "d331a650",
   "metadata": {},
   "outputs": [
    {
     "data": {
      "text/plain": [
       "'happy birthday'"
      ]
     },
     "execution_count": 6,
     "metadata": {},
     "output_type": "execute_result"
    }
   ],
   "source": [
    "\"HAPPY BIRTHDAY\".lower()"
   ]
  },
  {
   "cell_type": "code",
   "execution_count": 1,
   "id": "0d4d9f8d",
   "metadata": {},
   "outputs": [],
   "source": [
    "message3 = \"python is fun and cool\".title()"
   ]
  },
  {
   "cell_type": "code",
   "execution_count": 11,
   "id": "df030b82",
   "metadata": {},
   "outputs": [
    {
     "name": "stdout",
     "output_type": "stream",
     "text": [
      "Python Is Fun And Cool\n"
     ]
    }
   ],
   "source": [
    "print (message3)"
   ]
  },
  {
   "cell_type": "code",
   "execution_count": 12,
   "id": "6809032d",
   "metadata": {},
   "outputs": [
    {
     "data": {
      "text/plain": [
       "'PYTHON IS FUN AND COOL'"
      ]
     },
     "execution_count": 12,
     "metadata": {},
     "output_type": "execute_result"
    }
   ],
   "source": [
    "message3.upper()"
   ]
  },
  {
   "cell_type": "code",
   "execution_count": 14,
   "id": "a90d4431",
   "metadata": {},
   "outputs": [
    {
     "data": {
      "text/plain": [
       "'Python Is Fun And Cool'"
      ]
     },
     "execution_count": 14,
     "metadata": {},
     "output_type": "execute_result"
    }
   ],
   "source": [
    "message3"
   ]
  },
  {
   "cell_type": "code",
   "execution_count": null,
   "id": "1729b6e4",
   "metadata": {},
   "outputs": [],
   "source": [
    "#immutable - doesn't change \n",
    "#mutable - changes"
   ]
  },
  {
   "cell_type": "code",
   "execution_count": 15,
   "id": "061b2068",
   "metadata": {},
   "outputs": [
    {
     "data": {
      "text/plain": [
       "'Python is fun and cool'"
      ]
     },
     "execution_count": 15,
     "metadata": {},
     "output_type": "execute_result"
    }
   ],
   "source": [
    "message3.capitalize()"
   ]
  },
  {
   "cell_type": "code",
   "execution_count": 16,
   "id": "74dd8e0a",
   "metadata": {},
   "outputs": [
    {
     "data": {
      "text/plain": [
       "'Python Is Fun And Cool'"
      ]
     },
     "execution_count": 16,
     "metadata": {},
     "output_type": "execute_result"
    }
   ],
   "source": [
    "message3"
   ]
  },
  {
   "cell_type": "code",
   "execution_count": 17,
   "id": "87b5be87",
   "metadata": {},
   "outputs": [
    {
     "data": {
      "text/plain": [
       "'hello world'"
      ]
     },
     "execution_count": 17,
     "metadata": {},
     "output_type": "execute_result"
    }
   ],
   "source": [
    "message"
   ]
  },
  {
   "cell_type": "code",
   "execution_count": 21,
   "id": "13483cbe",
   "metadata": {},
   "outputs": [
    {
     "data": {
      "text/plain": [
       "6"
      ]
     },
     "execution_count": 21,
     "metadata": {},
     "output_type": "execute_result"
    }
   ],
   "source": [
    "message.index(\"w\")"
   ]
  },
  {
   "cell_type": "code",
   "execution_count": 27,
   "id": "21444224",
   "metadata": {},
   "outputs": [
    {
     "data": {
      "text/plain": [
       "'   happy   '"
      ]
     },
     "execution_count": 27,
     "metadata": {},
     "output_type": "execute_result"
    }
   ],
   "source": [
    "message4 = \"   happy   \"\n",
    "message4"
   ]
  },
  {
   "cell_type": "code",
   "execution_count": 29,
   "id": "ebcdad0d",
   "metadata": {},
   "outputs": [
    {
     "data": {
      "text/plain": [
       "5"
      ]
     },
     "execution_count": 29,
     "metadata": {},
     "output_type": "execute_result"
    }
   ],
   "source": [
    "len(message4.strip())"
   ]
  },
  {
   "cell_type": "code",
   "execution_count": 25,
   "id": "926f3c75",
   "metadata": {},
   "outputs": [
    {
     "data": {
      "text/plain": [
       "11"
      ]
     },
     "execution_count": 25,
     "metadata": {},
     "output_type": "execute_result"
    }
   ],
   "source": [
    "len(message4)"
   ]
  },
  {
   "cell_type": "code",
   "execution_count": null,
   "id": "7d80b233",
   "metadata": {},
   "outputs": [],
   "source": [
    "#Bro Code "
   ]
  },
  {
   "cell_type": "code",
   "execution_count": 1,
   "id": "2cdb8101",
   "metadata": {},
   "outputs": [],
   "source": [
    "name = \"flashy zee\""
   ]
  },
  {
   "cell_type": "code",
   "execution_count": 2,
   "id": "bc5652d0",
   "metadata": {},
   "outputs": [
    {
     "name": "stdout",
     "output_type": "stream",
     "text": [
      "flashy zee\n"
     ]
    }
   ],
   "source": [
    "print (name)"
   ]
  },
  {
   "cell_type": "code",
   "execution_count": 3,
   "id": "8b23c10b",
   "metadata": {},
   "outputs": [
    {
     "name": "stdout",
     "output_type": "stream",
     "text": [
      "10\n"
     ]
    }
   ],
   "source": [
    "print (len(name))"
   ]
  },
  {
   "cell_type": "code",
   "execution_count": 4,
   "id": "04ea6b45",
   "metadata": {},
   "outputs": [
    {
     "name": "stdout",
     "output_type": "stream",
     "text": [
      "2\n"
     ]
    }
   ],
   "source": [
    "print(name.find(\"a\"))"
   ]
  },
  {
   "cell_type": "code",
   "execution_count": 5,
   "id": "588bb643",
   "metadata": {},
   "outputs": [
    {
     "name": "stdout",
     "output_type": "stream",
     "text": [
      "Flashy zee\n"
     ]
    }
   ],
   "source": [
    "print (name.capitalize())"
   ]
  },
  {
   "cell_type": "code",
   "execution_count": 6,
   "id": "91dfa2cc",
   "metadata": {},
   "outputs": [
    {
     "name": "stdout",
     "output_type": "stream",
     "text": [
      "flashy zee\n"
     ]
    }
   ],
   "source": [
    "print (name.format())"
   ]
  },
  {
   "cell_type": "code",
   "execution_count": 7,
   "id": "a55ed78a",
   "metadata": {},
   "outputs": [
    {
     "name": "stdout",
     "output_type": "stream",
     "text": [
      "FLASHY ZEE\n"
     ]
    }
   ],
   "source": [
    "print (name.upper())"
   ]
  },
  {
   "cell_type": "code",
   "execution_count": 8,
   "id": "7654a3f9",
   "metadata": {},
   "outputs": [
    {
     "name": "stdout",
     "output_type": "stream",
     "text": [
      "flashy zee\n"
     ]
    }
   ],
   "source": [
    "print (name.lower())"
   ]
  },
  {
   "cell_type": "code",
   "execution_count": 9,
   "id": "d9d18b93",
   "metadata": {},
   "outputs": [
    {
     "name": "stdout",
     "output_type": "stream",
     "text": [
      "False\n"
     ]
    }
   ],
   "source": [
    "print (name.isdigit())"
   ]
  },
  {
   "cell_type": "code",
   "execution_count": 10,
   "id": "9ac70ca4",
   "metadata": {},
   "outputs": [
    {
     "name": "stdout",
     "output_type": "stream",
     "text": [
      "False\n"
     ]
    }
   ],
   "source": [
    "print (name.isalpha())"
   ]
  },
  {
   "cell_type": "code",
   "execution_count": 11,
   "id": "27971124",
   "metadata": {},
   "outputs": [
    {
     "name": "stdout",
     "output_type": "stream",
     "text": [
      "1\n"
     ]
    }
   ],
   "source": [
    "print(name.count(\"s\"))"
   ]
  },
  {
   "cell_type": "code",
   "execution_count": 12,
   "id": "5fab9c35",
   "metadata": {},
   "outputs": [
    {
     "name": "stdout",
     "output_type": "stream",
     "text": [
      "flashy zee\n"
     ]
    }
   ],
   "source": [
    "print (name.replace(\"v\", \"f\"))"
   ]
  },
  {
   "cell_type": "code",
   "execution_count": 13,
   "id": "00c0acee",
   "metadata": {},
   "outputs": [
    {
     "name": "stdout",
     "output_type": "stream",
     "text": [
      "flashy zee\n"
     ]
    }
   ],
   "source": [
    "print (name)"
   ]
  },
  {
   "cell_type": "code",
   "execution_count": 14,
   "id": "60492e56",
   "metadata": {},
   "outputs": [
    {
     "name": "stdout",
     "output_type": "stream",
     "text": [
      "flashy zeeflashy zeeflashy zee\n"
     ]
    }
   ],
   "source": [
    "print(name*3)"
   ]
  },
  {
   "cell_type": "code",
   "execution_count": 15,
   "id": "97e86288",
   "metadata": {},
   "outputs": [],
   "source": [
    "x = 1 #int \n",
    "y = 2.0 #float\n",
    "z = '3' #string "
   ]
  },
  {
   "cell_type": "code",
   "execution_count": 16,
   "id": "061fa906",
   "metadata": {},
   "outputs": [],
   "source": [
    "y = int(y)"
   ]
  },
  {
   "cell_type": "code",
   "execution_count": 17,
   "id": "85c3e6ee",
   "metadata": {},
   "outputs": [
    {
     "name": "stdout",
     "output_type": "stream",
     "text": [
      "x is 1\n",
      "y is 1\n",
      "333\n"
     ]
    }
   ],
   "source": [
    "print(\"x is \"+str(x))\n",
    "print(\"y is \"+str(x))\n",
    "print(z*3)"
   ]
  },
  {
   "cell_type": "code",
   "execution_count": 18,
   "id": "c3e4c032",
   "metadata": {},
   "outputs": [
    {
     "name": "stdout",
     "output_type": "stream",
     "text": [
      "x is 1\n",
      "y is 1\n",
      "z is 333\n"
     ]
    }
   ],
   "source": [
    "print(\"x is \"+str(x))\n",
    "print(\"y is \"+str(x))\n",
    "print(\"z is \"+str(z*3))"
   ]
  },
  {
   "cell_type": "code",
   "execution_count": null,
   "id": "c550c8e9",
   "metadata": {},
   "outputs": [],
   "source": [
    "#Slicing creates a substring by extracting elements from another string \n",
    "#        Indexing[] or slice()\n",
    "#        [start: stop: step]\n"
   ]
  },
  {
   "cell_type": "code",
   "execution_count": 23,
   "id": "db6300d2",
   "metadata": {},
   "outputs": [],
   "source": [
    "name = \"flashy zee\""
   ]
  },
  {
   "cell_type": "code",
   "execution_count": 102,
   "id": "c007b323",
   "metadata": {},
   "outputs": [],
   "source": [
    "first_name = name[0]\n",
    "last_name = name[6:10]\n",
    "nick_name = name[7:10:1]\n",
    "reversed_name = name[: :-1]"
   ]
  },
  {
   "cell_type": "code",
   "execution_count": 49,
   "id": "c5a43f8d",
   "metadata": {},
   "outputs": [
    {
     "name": "stdout",
     "output_type": "stream",
     "text": [
      "flashy\n"
     ]
    }
   ],
   "source": [
    "print (first_name)"
   ]
  },
  {
   "cell_type": "code",
   "execution_count": 47,
   "id": "d08e8f2c",
   "metadata": {},
   "outputs": [],
   "source": [
    "first_name = name[0:6]"
   ]
  },
  {
   "cell_type": "code",
   "execution_count": 48,
   "id": "15dbbbb1",
   "metadata": {},
   "outputs": [
    {
     "name": "stdout",
     "output_type": "stream",
     "text": [
      "flashy\n"
     ]
    }
   ],
   "source": [
    "print (first_name)"
   ]
  },
  {
   "cell_type": "code",
   "execution_count": 88,
   "id": "c6d88feb",
   "metadata": {},
   "outputs": [
    {
     "name": "stdout",
     "output_type": "stream",
     "text": [
      " zee\n"
     ]
    }
   ],
   "source": [
    "print (last_name)"
   ]
  },
  {
   "cell_type": "code",
   "execution_count": 50,
   "id": "0b9462f8",
   "metadata": {},
   "outputs": [],
   "source": [
    "welcome_message = \"Hello mother flucker\""
   ]
  },
  {
   "cell_type": "code",
   "execution_count": 51,
   "id": "a18225d6",
   "metadata": {},
   "outputs": [
    {
     "name": "stdout",
     "output_type": "stream",
     "text": [
      "Hello mother flucker\n"
     ]
    }
   ],
   "source": [
    "print (welcome_message)"
   ]
  },
  {
   "cell_type": "code",
   "execution_count": 103,
   "id": "96486442",
   "metadata": {},
   "outputs": [
    {
     "name": "stdout",
     "output_type": "stream",
     "text": [
      "zee\n"
     ]
    }
   ],
   "source": [
    "print (nick_name)"
   ]
  },
  {
   "cell_type": "code",
   "execution_count": 99,
   "id": "33ffaeac",
   "metadata": {},
   "outputs": [
    {
     "name": "stdout",
     "output_type": "stream",
     "text": [
      "eez yhsalf\n"
     ]
    }
   ],
   "source": [
    "print (reversed_name)"
   ]
  },
  {
   "cell_type": "code",
   "execution_count": null,
   "id": "8f983aa5",
   "metadata": {},
   "outputs": [],
   "source": [
    "#Slice "
   ]
  },
  {
   "cell_type": "code",
   "execution_count": 122,
   "id": "5f0bc774",
   "metadata": {},
   "outputs": [],
   "source": [
    "website = \"http://google.com\""
   ]
  },
  {
   "cell_type": "code",
   "execution_count": 129,
   "id": "bb4af883",
   "metadata": {},
   "outputs": [
    {
     "ename": "TypeError",
     "evalue": "'slice' object is not callable",
     "output_type": "error",
     "traceback": [
      "\u001b[0;31m---------------------------------------------------------------------------\u001b[0m",
      "\u001b[0;31mTypeError\u001b[0m                                 Traceback (most recent call last)",
      "Cell \u001b[0;32mIn[129], line 1\u001b[0m\n\u001b[0;32m----> 1\u001b[0m \u001b[38;5;28mslice\u001b[39m \u001b[38;5;241m=\u001b[39m \u001b[38;5;28mslice\u001b[39m(\u001b[38;5;241m7\u001b[39m, \u001b[38;5;241m-\u001b[39m\u001b[38;5;241m4\u001b[39m)\n",
      "\u001b[0;31mTypeError\u001b[0m: 'slice' object is not callable"
     ]
    }
   ],
   "source": [
    "slice = slice(7, -4)"
   ]
  },
  {
   "cell_type": "code",
   "execution_count": 128,
   "id": "266deabe",
   "metadata": {},
   "outputs": [
    {
     "name": "stdout",
     "output_type": "stream",
     "text": [
      "google\n"
     ]
    }
   ],
   "source": [
    "print(website [slice])"
   ]
  },
  {
   "cell_type": "code",
   "execution_count": null,
   "id": "077b67fd",
   "metadata": {},
   "outputs": [],
   "source": []
  },
  {
   "cell_type": "code",
   "execution_count": null,
   "id": "5cbb20b7",
   "metadata": {},
   "outputs": [],
   "source": []
  },
  {
   "cell_type": "code",
   "execution_count": null,
   "id": "4a8dc8be",
   "metadata": {},
   "outputs": [],
   "source": []
  },
  {
   "cell_type": "code",
   "execution_count": null,
   "id": "0cf78ce1",
   "metadata": {},
   "outputs": [],
   "source": []
  },
  {
   "cell_type": "code",
   "execution_count": null,
   "id": "a57cfe92",
   "metadata": {},
   "outputs": [],
   "source": []
  },
  {
   "cell_type": "code",
   "execution_count": null,
   "id": "35a78238",
   "metadata": {},
   "outputs": [],
   "source": []
  },
  {
   "cell_type": "code",
   "execution_count": null,
   "id": "5600560f",
   "metadata": {},
   "outputs": [],
   "source": []
  },
  {
   "cell_type": "code",
   "execution_count": null,
   "id": "567bc8b6",
   "metadata": {},
   "outputs": [],
   "source": []
  },
  {
   "cell_type": "code",
   "execution_count": null,
   "id": "9dee97cc",
   "metadata": {},
   "outputs": [],
   "source": []
  },
  {
   "cell_type": "code",
   "execution_count": null,
   "id": "338e5355",
   "metadata": {},
   "outputs": [],
   "source": []
  },
  {
   "cell_type": "code",
   "execution_count": null,
   "id": "39eba68a",
   "metadata": {},
   "outputs": [],
   "source": []
  },
  {
   "cell_type": "code",
   "execution_count": null,
   "id": "08e540cf",
   "metadata": {},
   "outputs": [],
   "source": []
  },
  {
   "cell_type": "code",
   "execution_count": null,
   "id": "b68ff0e8",
   "metadata": {},
   "outputs": [],
   "source": []
  },
  {
   "cell_type": "code",
   "execution_count": null,
   "id": "2d028f48",
   "metadata": {},
   "outputs": [],
   "source": []
  },
  {
   "cell_type": "code",
   "execution_count": null,
   "id": "64049a1d",
   "metadata": {},
   "outputs": [],
   "source": []
  },
  {
   "cell_type": "code",
   "execution_count": null,
   "id": "cc92bade",
   "metadata": {},
   "outputs": [],
   "source": []
  },
  {
   "cell_type": "code",
   "execution_count": null,
   "id": "341b187a",
   "metadata": {},
   "outputs": [],
   "source": []
  },
  {
   "cell_type": "code",
   "execution_count": null,
   "id": "04db02b6",
   "metadata": {},
   "outputs": [],
   "source": []
  },
  {
   "cell_type": "code",
   "execution_count": null,
   "id": "af1b1c7d",
   "metadata": {},
   "outputs": [],
   "source": []
  },
  {
   "cell_type": "code",
   "execution_count": null,
   "id": "d1b0ffb8",
   "metadata": {},
   "outputs": [],
   "source": []
  },
  {
   "cell_type": "code",
   "execution_count": null,
   "id": "1e0d6c49",
   "metadata": {},
   "outputs": [],
   "source": []
  }
 ],
 "metadata": {
  "kernelspec": {
   "display_name": "Python 3 (ipykernel)",
   "language": "python",
   "name": "python3"
  },
  "language_info": {
   "codemirror_mode": {
    "name": "ipython",
    "version": 3
   },
   "file_extension": ".py",
   "mimetype": "text/x-python",
   "name": "python",
   "nbconvert_exporter": "python",
   "pygments_lexer": "ipython3",
   "version": "3.11.5"
  }
 },
 "nbformat": 4,
 "nbformat_minor": 5
}
