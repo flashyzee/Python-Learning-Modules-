{
 "cells": [
  {
   "cell_type": "code",
   "execution_count": null,
   "id": "16fe5353",
   "metadata": {},
   "outputs": [],
   "source": [
    "# if statement is a block of code that will execute if it condtition is true"
   ]
  },
  {
   "cell_type": "markdown",
   "id": "bbd37af6",
   "metadata": {},
   "source": [
    "# Bro Code "
   ]
  },
  {
   "cell_type": "code",
   "execution_count": 37,
   "id": "ee6a51c1",
   "metadata": {},
   "outputs": [
    {
     "name": "stdout",
     "output_type": "stream",
     "text": [
      "How old are you?: 100\n",
      "You are a century old\n"
     ]
    }
   ],
   "source": [
    "age = int(input(\"How old are you?: \"))\n",
    "\n",
    "if age == 100:\n",
    "    print(\"You are a century old\")\n",
    "elif age >= 18:\n",
    "    print(\"you are an adult!\")\n",
    "elif age < 0:\n",
    "    print(\"You haven't been born yet\")\n",
    "else: \n",
    "    print(\"you are under age!\")"
   ]
  },
  {
   "cell_type": "code",
   "execution_count": null,
   "id": "d331a650",
   "metadata": {},
   "outputs": [],
   "source": [
    "#My code#"
   ]
  },
  {
   "cell_type": "code",
   "execution_count": null,
   "id": "0d4d9f8d",
   "metadata": {},
   "outputs": [],
   "source": [
    "#Timely Care app"
   ]
  },
  {
   "cell_type": "code",
   "execution_count": 21,
   "id": "0712b561",
   "metadata": {},
   "outputs": [
    {
     "name": "stdout",
     "output_type": "stream",
     "text": [
      "Welcome, to get started please enter your email address: zion5050@gmail.co\n",
      "Enter your date of birth (MM-DD-YYYY): 02-17-1970\n",
      "You are an adult!\n"
     ]
    }
   ],
   "source": [
    "from datetime import datetime\n",
    "\n",
    "Greetings = input(\"Welcome, to get started please enter your email address: \")\n",
    "\n",
    "dob_str = input(\"Enter your date of birth (MM-DD-YYYY): \")\n",
    "dob = datetime.strptime(dob_str, \"%m-%d-%Y\")\n",
    "\n",
    "# Get the current date\n",
    "curr_dt = datetime.now()\n",
    "\n",
    "# Calculate age\n",
    "age = curr_dt.year - dob.year - ((curr_dt.month, curr_dt.day) < (dob.month, dob.day))\n",
    "\n",
    "# Check if the user is an adult\n",
    "if age < 18:\n",
    "    print(\"You are under age!\")\n",
    "else:\n",
    "    print(\"You are an adult!\")"
   ]
  },
  {
   "cell_type": "markdown",
   "id": "d559447c",
   "metadata": {},
   "source": [
    "# Bro Code"
   ]
  },
  {
   "cell_type": "code",
   "execution_count": null,
   "id": "4cf935f9",
   "metadata": {},
   "outputs": [],
   "source": [
    "#logical operators (and, or, not): it is used to check for two or more conditional statement "
   ]
  },
  {
   "cell_type": "code",
   "execution_count": 4,
   "id": "b9a6af5a",
   "metadata": {},
   "outputs": [
    {
     "name": "stdout",
     "output_type": "stream",
     "text": [
      "What is the temperature outside?: -20\n",
      "the temperature is bad today!\n",
      "don't go outside!\n"
     ]
    }
   ],
   "source": [
    "temp = int(input(\"What is the temperature outside?: \"))\n",
    "\n",
    "if not (temp >= 0 and temp <= 30):\n",
    "     print(\"the temperature is bad today!\")\n",
    "     print(\"don't go outside!\")\n",
    "    \n",
    "elif not (temp < 0 or temp > 30):\n",
    "    print(\"the temperature is good today!\")\n",
    "    print(\"go outside!\")"
   ]
  },
  {
   "cell_type": "code",
   "execution_count": null,
   "id": "bfaa0bdd",
   "metadata": {},
   "outputs": [],
   "source": []
  },
  {
   "cell_type": "code",
   "execution_count": null,
   "id": "cca90eea",
   "metadata": {},
   "outputs": [],
   "source": []
  },
  {
   "cell_type": "code",
   "execution_count": null,
   "id": "dcde6a20",
   "metadata": {},
   "outputs": [],
   "source": []
  },
  {
   "cell_type": "code",
   "execution_count": null,
   "id": "29b815b8",
   "metadata": {},
   "outputs": [],
   "source": []
  },
  {
   "cell_type": "code",
   "execution_count": null,
   "id": "d5a23486",
   "metadata": {},
   "outputs": [],
   "source": []
  },
  {
   "cell_type": "code",
   "execution_count": null,
   "id": "d3cc3d18",
   "metadata": {},
   "outputs": [],
   "source": []
  },
  {
   "cell_type": "code",
   "execution_count": null,
   "id": "0a6aeae3",
   "metadata": {},
   "outputs": [],
   "source": []
  }
 ],
 "metadata": {
  "kernelspec": {
   "display_name": "Python 3 (ipykernel)",
   "language": "python",
   "name": "python3"
  },
  "language_info": {
   "codemirror_mode": {
    "name": "ipython",
    "version": 3
   },
   "file_extension": ".py",
   "mimetype": "text/x-python",
   "name": "python",
   "nbconvert_exporter": "python",
   "pygments_lexer": "ipython3",
   "version": "3.11.5"
  }
 },
 "nbformat": 4,
 "nbformat_minor": 5
}
