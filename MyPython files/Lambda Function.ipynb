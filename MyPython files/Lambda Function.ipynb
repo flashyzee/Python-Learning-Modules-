{
 "cells": [
  {
   "cell_type": "code",
   "execution_count": 9,
   "metadata": {},
   "outputs": [
    {
     "name": "stdout",
     "output_type": "stream",
     "text": [
      "4\n",
      "False\n"
     ]
    }
   ],
   "source": [
    "# lambda function = function written in 1 line using lambda keyword\n",
    "#          accepts any number of arguments, but only has one expression,\n",
    "#          (think of it as a shortcut)\n",
    "#           (useful if needed for a short period of time, throw-away)\n",
    "#\n",
    "#lambda parameters:expression\n",
    "\n",
    "def double(x):\n",
    "    return x * 2\n",
    "\n",
    "print(double(2))\n",
    "\n",
    "double = lambda x:x * 2\n",
    "multiply = lambda x, y: x * y\n",
    "add = lambda x, y, z: x + y + z\n",
    "full_name = lambda first_name, last_name: first_name+\" \"+last_name\n",
    "age_check = lambda age: True if age >= 18 else False\n",
    "\n",
    "print(age_check(8))"
   ]
  }
 ],
 "metadata": {
  "kernelspec": {
   "display_name": "Python 3",
   "language": "python",
   "name": "python3"
  },
  "language_info": {
   "codemirror_mode": {
    "name": "ipython",
    "version": 3
   },
   "file_extension": ".py",
   "mimetype": "text/x-python",
   "name": "python",
   "nbconvert_exporter": "python",
   "pygments_lexer": "ipython3",
   "version": "3.9.6"
  }
 },
 "nbformat": 4,
 "nbformat_minor": 2
}
