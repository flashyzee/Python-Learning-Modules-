{
 "cells": [
  {
   "cell_type": "code",
   "execution_count": null,
   "id": "656e261e",
   "metadata": {},
   "outputs": [],
   "source": [
    "#index operator [] = give access to a sequence's element (str, list,tuples)"
   ]
  },
  {
   "cell_type": "code",
   "execution_count": 14,
   "id": "0d2168d5",
   "metadata": {},
   "outputs": [],
   "source": [
    "name = \"bro code!\""
   ]
  },
  {
   "cell_type": "code",
   "execution_count": 15,
   "id": "9b8509cb",
   "metadata": {},
   "outputs": [],
   "source": [
    "if(name[0].islower()):\n",
    "    name = name.capitalize"
   ]
  },
  {
   "cell_type": "code",
   "execution_count": 16,
   "id": "b93701f1",
   "metadata": {},
   "outputs": [
    {
     "name": "stdout",
     "output_type": "stream",
     "text": [
      "<built-in method capitalize of str object at 0x10e239bf0>\n"
     ]
    }
   ],
   "source": [
    "print(name)"
   ]
  },
  {
   "cell_type": "code",
   "execution_count": 19,
   "id": "d873fceb",
   "metadata": {},
   "outputs": [],
   "source": [
    "first_name = name[:3].upper()\n",
    "last_name = name[4:].lower()\n",
    "last_character = name[-1]"
   ]
  },
  {
   "cell_type": "code",
   "execution_count": 18,
   "id": "99cad260",
   "metadata": {},
   "outputs": [],
   "source": [
    "print(first_name)"
   ]
  },
  {
   "cell_type": "code",
   "execution_count": null,
   "id": "6077632e",
   "metadata": {},
   "outputs": [],
   "source": [
    "print(last_name)"
   ]
  },
  {
   "cell_type": "code",
   "execution_count": null,
   "id": "dc6249f2",
   "metadata": {},
   "outputs": [],
   "source": [
    "print(last_character)"
   ]
  }
 ],
 "metadata": {
  "kernelspec": {
   "display_name": "Python 3 (ipykernel)",
   "language": "python",
   "name": "python3"
  },
  "language_info": {
   "codemirror_mode": {
    "name": "ipython",
    "version": 3
   },
   "file_extension": ".py",
   "mimetype": "text/x-python",
   "name": "python",
   "nbconvert_exporter": "python",
   "pygments_lexer": "ipython3",
   "version": "3.11.5"
  }
 },
 "nbformat": 4,
 "nbformat_minor": 5
}
