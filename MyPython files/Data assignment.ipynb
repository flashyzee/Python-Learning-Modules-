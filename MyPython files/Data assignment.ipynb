{
 "cells": [
  {
   "cell_type": "code",
   "execution_count": 1,
   "id": "cb116789",
   "metadata": {},
   "outputs": [
    {
     "name": "stdout",
     "output_type": "stream",
     "text": [
      "What is your name: Zion\n",
      "How old are you? 17\n",
      "How tall are you? 5.8\n"
     ]
    }
   ],
   "source": [
    "name = input(\"What is your name: \")\n",
    "age = int(input(\"How old are you? \"))\n",
    "height = float(input(\"How tall are you? \"))"
   ]
  },
  {
   "cell_type": "code",
   "execution_count": 2,
   "id": "686dd98d",
   "metadata": {},
   "outputs": [
    {
     "name": "stdout",
     "output_type": "stream",
     "text": [
      "Hello Zion\n",
      "You are 17 years old\n",
      "You are 5.8cm tall \n"
     ]
    }
   ],
   "source": [
    "print(\"Hello \" +name)\n",
    "print(\"You are \" +str(age)+\" years old\")\n",
    "print(\"You are \" +str(height)+\"cm tall \")"
   ]
  }
 ],
 "metadata": {
  "kernelspec": {
   "display_name": "Python 3 (ipykernel)",
   "language": "python",
   "name": "python3"
  },
  "language_info": {
   "codemirror_mode": {
    "name": "ipython",
    "version": 3
   },
   "file_extension": ".py",
   "mimetype": "text/x-python",
   "name": "python",
   "nbconvert_exporter": "python",
   "pygments_lexer": "ipython3",
   "version": "3.11.5"
  }
 },
 "nbformat": 4,
 "nbformat_minor": 5
}
