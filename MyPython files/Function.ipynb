{
 "cells": [
  {
   "cell_type": "code",
   "execution_count": null,
   "id": "ed1b2f6e",
   "metadata": {},
   "outputs": [],
   "source": [
    "#function = a block of code which is executed only when it is called."
   ]
  },
  {
   "cell_type": "code",
   "execution_count": 21,
   "id": "8b93f3ce",
   "metadata": {},
   "outputs": [],
   "source": [
    "def hello(name):\n",
    "    print(\"hello\"+name)\n",
    "    print(\"Have a nice day!\")\n",
    "    "
   ]
  },
  {
   "cell_type": "code",
   "execution_count": 24,
   "id": "898e46f2",
   "metadata": {},
   "outputs": [],
   "source": [
    "my_name = \"Bro\""
   ]
  },
  {
   "cell_type": "code",
   "execution_count": 25,
   "id": "ce41aee2",
   "metadata": {},
   "outputs": [
    {
     "name": "stdout",
     "output_type": "stream",
     "text": [
      "helloBro\n",
      "Have a nice day!\n"
     ]
    }
   ],
   "source": [
    "hello(my_name)"
   ]
  },
  {
   "cell_type": "code",
   "execution_count": 22,
   "id": "fe0081fc",
   "metadata": {},
   "outputs": [
    {
     "name": "stdout",
     "output_type": "stream",
     "text": [
      "helloBro\n",
      "Have a nice day!\n"
     ]
    }
   ],
   "source": [
    "hello (\"Bro\")"
   ]
  },
  {
   "cell_type": "code",
   "execution_count": 23,
   "id": "44df8317",
   "metadata": {},
   "outputs": [
    {
     "name": "stdout",
     "output_type": "stream",
     "text": [
      "helloDude\n",
      "Have a nice day!\n"
     ]
    }
   ],
   "source": [
    "hello (\"Dude\")"
   ]
  },
  {
   "cell_type": "code",
   "execution_count": null,
   "id": "8a1444b2",
   "metadata": {},
   "outputs": [],
   "source": [
    "#Positional arguments and parameters "
   ]
  },
  {
   "cell_type": "code",
   "execution_count": 40,
   "id": "d498033a",
   "metadata": {},
   "outputs": [],
   "source": [
    "def hello(first_name, last_name, age):\n",
    "    print(\"hello\"+first_name+\" \"+last_name)\n",
    "    print(\"You are \"+str(age)+\" years old\")\n",
    "    print(\"Have a nice day!\")"
   ]
  },
  {
   "cell_type": "code",
   "execution_count": 41,
   "id": "09473dfe",
   "metadata": {},
   "outputs": [
    {
     "name": "stdout",
     "output_type": "stream",
     "text": [
      "hello Bro Code\n",
      "You are 21 years old\n",
      "Have a nice day!\n"
     ]
    }
   ],
   "source": [
    "hello (\" Bro\", \"Code\", 21)"
   ]
  },
  {
   "cell_type": "code",
   "execution_count": null,
   "id": "fb8ea9bd",
   "metadata": {},
   "outputs": [],
   "source": [
    "# Return Statement = functions sends Python values/objects back to the caller.\n",
    "#These values/objects are known as the function's return value"
   ]
  },
  {
   "cell_type": "code",
   "execution_count": 47,
   "id": "cf8945b2",
   "metadata": {},
   "outputs": [],
   "source": [
    "def multiply(number1,number2):\n",
    "    result = number1 * number2\n",
    "    return result"
   ]
  },
  {
   "cell_type": "code",
   "execution_count": 48,
   "id": "746ebe43",
   "metadata": {},
   "outputs": [
    {
     "name": "stdout",
     "output_type": "stream",
     "text": [
      "48\n"
     ]
    }
   ],
   "source": [
    "print(multiply(6,8))"
   ]
  },
  {
   "cell_type": "code",
   "execution_count": 52,
   "id": "dbd62390",
   "metadata": {},
   "outputs": [],
   "source": [
    "x = multiply(6,8)"
   ]
  },
  {
   "cell_type": "code",
   "execution_count": 53,
   "id": "028eeefb",
   "metadata": {},
   "outputs": [
    {
     "name": "stdout",
     "output_type": "stream",
     "text": [
      "48\n"
     ]
    }
   ],
   "source": [
    "print(x)"
   ]
  },
  {
   "cell_type": "code",
   "execution_count": null,
   "id": "06436f8f",
   "metadata": {},
   "outputs": [],
   "source": []
  },
  {
   "cell_type": "code",
   "execution_count": null,
   "id": "c17a525e",
   "metadata": {},
   "outputs": [],
   "source": []
  },
  {
   "cell_type": "code",
   "execution_count": null,
   "id": "834a01d7",
   "metadata": {},
   "outputs": [],
   "source": []
  },
  {
   "cell_type": "code",
   "execution_count": null,
   "id": "aa519c6e",
   "metadata": {},
   "outputs": [],
   "source": []
  },
  {
   "cell_type": "code",
   "execution_count": null,
   "id": "ade0c43d",
   "metadata": {},
   "outputs": [],
   "source": []
  },
  {
   "cell_type": "code",
   "execution_count": null,
   "id": "c6c1b4e8",
   "metadata": {},
   "outputs": [],
   "source": []
  },
  {
   "cell_type": "code",
   "execution_count": null,
   "id": "77eb4f3e",
   "metadata": {},
   "outputs": [],
   "source": []
  },
  {
   "cell_type": "code",
   "execution_count": null,
   "id": "b86b7ad0",
   "metadata": {},
   "outputs": [],
   "source": []
  },
  {
   "cell_type": "code",
   "execution_count": null,
   "id": "334d4a62",
   "metadata": {},
   "outputs": [],
   "source": []
  },
  {
   "cell_type": "code",
   "execution_count": null,
   "id": "57094655",
   "metadata": {},
   "outputs": [],
   "source": []
  },
  {
   "cell_type": "code",
   "execution_count": null,
   "id": "67852c56",
   "metadata": {},
   "outputs": [],
   "source": []
  },
  {
   "cell_type": "code",
   "execution_count": null,
   "id": "9e2f01cb",
   "metadata": {},
   "outputs": [],
   "source": []
  },
  {
   "cell_type": "code",
   "execution_count": null,
   "id": "07bad23f",
   "metadata": {},
   "outputs": [],
   "source": []
  },
  {
   "cell_type": "code",
   "execution_count": null,
   "id": "45e3395a",
   "metadata": {},
   "outputs": [],
   "source": []
  },
  {
   "cell_type": "code",
   "execution_count": null,
   "id": "9b7161ab",
   "metadata": {},
   "outputs": [],
   "source": []
  },
  {
   "cell_type": "code",
   "execution_count": null,
   "id": "94703738",
   "metadata": {},
   "outputs": [],
   "source": []
  },
  {
   "cell_type": "code",
   "execution_count": null,
   "id": "3ea385f9",
   "metadata": {},
   "outputs": [],
   "source": []
  },
  {
   "cell_type": "code",
   "execution_count": null,
   "id": "a4544022",
   "metadata": {},
   "outputs": [],
   "source": []
  },
  {
   "cell_type": "code",
   "execution_count": null,
   "id": "ef089f2c",
   "metadata": {},
   "outputs": [],
   "source": []
  },
  {
   "cell_type": "code",
   "execution_count": null,
   "id": "9b739805",
   "metadata": {},
   "outputs": [],
   "source": []
  },
  {
   "cell_type": "code",
   "execution_count": null,
   "id": "f167ef49",
   "metadata": {},
   "outputs": [],
   "source": []
  }
 ],
 "metadata": {
  "kernelspec": {
   "display_name": "Python 3 (ipykernel)",
   "language": "python",
   "name": "python3"
  },
  "language_info": {
   "codemirror_mode": {
    "name": "ipython",
    "version": 3
   },
   "file_extension": ".py",
   "mimetype": "text/x-python",
   "name": "python",
   "nbconvert_exporter": "python",
   "pygments_lexer": "ipython3",
   "version": "3.11.5"
  }
 },
 "nbformat": 4,
 "nbformat_minor": 5
}
