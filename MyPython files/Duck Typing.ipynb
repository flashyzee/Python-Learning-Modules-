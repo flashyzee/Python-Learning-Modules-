{
 "cells": [
  {
   "cell_type": "code",
   "execution_count": 1,
   "metadata": {},
   "outputs": [
    {
     "name": "stdout",
     "output_type": "stream",
     "text": [
      "This duck is walking\n",
      "This duck is quacking\n",
      "You caught the critter!\n"
     ]
    }
   ],
   "source": [
    "#Duck typing = concept where the class of an object is less important than the methods/attributes\n",
    "# class type is not checked if minimum methods/attributes are present\n",
    "# \"If it walks like a duck, and it quacks like a duck, then it must be a duck\"\n",
    "\n",
    "class Duck:\n",
    "\n",
    "    def walk(self):\n",
    "        print(\"This duck is walking\")\n",
    "\n",
    "    def talk(self):\n",
    "        print(\"This duck is quacking\")\n",
    "\n",
    "class Chicken:\n",
    "\n",
    "    def walk(self):\n",
    "        print(\"This chicken is walking\")\n",
    "\n",
    "    def talk(self):\n",
    "        print(\"This chicken is clucking\")\n",
    "\n",
    "class Person():\n",
    "\n",
    "    def catch(self,duck):\n",
    "        duck.walk()\n",
    "        duck.talk()\n",
    "        print(\"You caught the critter!\")\n",
    "\n",
    "\n",
    "duck = Duck()\n",
    "chicken = Chicken()\n",
    "person = Person()\n",
    "\n",
    "person.catch(duck)"
   ]
  }
 ],
 "metadata": {
  "kernelspec": {
   "display_name": "Python 3",
   "language": "python",
   "name": "python3"
  },
  "language_info": {
   "codemirror_mode": {
    "name": "ipython",
    "version": 3
   },
   "file_extension": ".py",
   "mimetype": "text/x-python",
   "name": "python",
   "nbconvert_exporter": "python",
   "pygments_lexer": "ipython3",
   "version": "3.9.6"
  }
 },
 "nbformat": 4,
 "nbformat_minor": 2
}
