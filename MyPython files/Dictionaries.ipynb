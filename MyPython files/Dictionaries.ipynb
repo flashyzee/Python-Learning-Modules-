{
 "cells": [
  {
   "cell_type": "code",
   "execution_count": null,
   "id": "a9d37fcc",
   "metadata": {},
   "outputs": [],
   "source": [
    "#dictionary = A changeable, unordered collection of unique key:value, pairs\n",
    "#Fast because they use hashing, allows us to access a value quickly. "
   ]
  },
  {
   "cell_type": "code",
   "execution_count": 2,
   "id": "c9d832fe",
   "metadata": {},
   "outputs": [],
   "source": [
    "capitals = {'USA': 'Washington DC',\n",
    "           'India': 'New Delhi',\n",
    "           'China': 'Bejing',\n",
    "           'Russia': 'Moscow'}"
   ]
  },
  {
   "cell_type": "code",
   "execution_count": 12,
   "id": "56d24f66",
   "metadata": {},
   "outputs": [],
   "source": [
    "capitals.update({'Germany': 'Berlin'})"
   ]
  },
  {
   "cell_type": "code",
   "execution_count": 13,
   "id": "d5ae8019",
   "metadata": {},
   "outputs": [],
   "source": [
    "capitals.update({'USA': 'Las Vegas'})"
   ]
  },
  {
   "cell_type": "code",
   "execution_count": 16,
   "id": "b8f7e23c",
   "metadata": {},
   "outputs": [
    {
     "ename": "KeyError",
     "evalue": "'China'",
     "output_type": "error",
     "traceback": [
      "\u001b[0;31m---------------------------------------------------------------------------\u001b[0m",
      "\u001b[0;31mKeyError\u001b[0m                                  Traceback (most recent call last)",
      "Cell \u001b[0;32mIn[16], line 1\u001b[0m\n\u001b[0;32m----> 1\u001b[0m capitals\u001b[38;5;241m.\u001b[39mpop(\u001b[38;5;124m'\u001b[39m\u001b[38;5;124mChina\u001b[39m\u001b[38;5;124m'\u001b[39m)\n",
      "\u001b[0;31mKeyError\u001b[0m: 'China'"
     ]
    }
   ],
   "source": [
    "capitals.pop('China')"
   ]
  },
  {
   "cell_type": "code",
   "execution_count": 17,
   "id": "7c6f69ed",
   "metadata": {},
   "outputs": [],
   "source": [
    "capitals.clear() "
   ]
  },
  {
   "cell_type": "code",
   "execution_count": 3,
   "id": "ef5d76ff",
   "metadata": {},
   "outputs": [
    {
     "name": "stdout",
     "output_type": "stream",
     "text": [
      "Moscow\n"
     ]
    }
   ],
   "source": [
    "print(capitals['Russia'])"
   ]
  },
  {
   "cell_type": "code",
   "execution_count": 4,
   "id": "f1b8ffd2",
   "metadata": {},
   "outputs": [
    {
     "name": "stdout",
     "output_type": "stream",
     "text": [
      "None\n"
     ]
    }
   ],
   "source": [
    "print(capitals.get('Germany'))"
   ]
  },
  {
   "cell_type": "code",
   "execution_count": 5,
   "id": "6e0e6d11",
   "metadata": {},
   "outputs": [
    {
     "name": "stdout",
     "output_type": "stream",
     "text": [
      "dict_keys(['USA', 'India', 'China', 'Russia'])\n"
     ]
    }
   ],
   "source": [
    "print(capitals.keys())"
   ]
  },
  {
   "cell_type": "code",
   "execution_count": 6,
   "id": "cb1fec0a",
   "metadata": {},
   "outputs": [
    {
     "name": "stdout",
     "output_type": "stream",
     "text": [
      "dict_values(['Washington DC', 'New Delhi', 'Bejing', 'Moscow'])\n"
     ]
    }
   ],
   "source": [
    "print(capitals.values())"
   ]
  },
  {
   "cell_type": "code",
   "execution_count": 7,
   "id": "d066ddc2",
   "metadata": {},
   "outputs": [
    {
     "name": "stdout",
     "output_type": "stream",
     "text": [
      "dict_items([('USA', 'Washington DC'), ('India', 'New Delhi'), ('China', 'Bejing'), ('Russia', 'Moscow')])\n"
     ]
    }
   ],
   "source": [
    "print(capitals.items())"
   ]
  },
  {
   "cell_type": "code",
   "execution_count": 18,
   "id": "c7e3bc8d",
   "metadata": {},
   "outputs": [],
   "source": [
    "for key, value in capitals.items():\n",
    "    print (key, value)"
   ]
  },
  {
   "cell_type": "code",
   "execution_count": null,
   "id": "950a3275",
   "metadata": {},
   "outputs": [],
   "source": []
  },
  {
   "cell_type": "code",
   "execution_count": null,
   "id": "63362db5",
   "metadata": {},
   "outputs": [],
   "source": []
  },
  {
   "cell_type": "code",
   "execution_count": null,
   "id": "40ff6816",
   "metadata": {},
   "outputs": [],
   "source": []
  },
  {
   "cell_type": "code",
   "execution_count": null,
   "id": "3f448436",
   "metadata": {},
   "outputs": [],
   "source": []
  },
  {
   "cell_type": "code",
   "execution_count": null,
   "id": "c9ce3616",
   "metadata": {},
   "outputs": [],
   "source": []
  },
  {
   "cell_type": "code",
   "execution_count": null,
   "id": "f8156f0a",
   "metadata": {},
   "outputs": [],
   "source": []
  },
  {
   "cell_type": "code",
   "execution_count": null,
   "id": "4d7c75e9",
   "metadata": {},
   "outputs": [],
   "source": []
  },
  {
   "cell_type": "code",
   "execution_count": null,
   "id": "0080229c",
   "metadata": {},
   "outputs": [],
   "source": []
  }
 ],
 "metadata": {
  "kernelspec": {
   "display_name": "Python 3 (ipykernel)",
   "language": "python",
   "name": "python3"
  },
  "language_info": {
   "codemirror_mode": {
    "name": "ipython",
    "version": 3
   },
   "file_extension": ".py",
   "mimetype": "text/x-python",
   "name": "python",
   "nbconvert_exporter": "python",
   "pygments_lexer": "ipython3",
   "version": "3.11.5"
  }
 },
 "nbformat": 4,
 "nbformat_minor": 5
}
