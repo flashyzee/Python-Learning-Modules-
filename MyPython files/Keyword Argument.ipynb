{
 "cells": [
  {
   "cell_type": "code",
   "execution_count": null,
   "id": "50dfe0f2",
   "metadata": {},
   "outputs": [],
   "source": [
    "#keyword arguments = argument preceded by an identifier when we pass them to a function\n",
    "#the order of the argument doesn't matter, unlike positional arguments\n",
    "#Python knows the name of the arguments our function receives "
   ]
  },
  {
   "cell_type": "code",
   "execution_count": 4,
   "id": "244d7f53",
   "metadata": {},
   "outputs": [],
   "source": [
    "def hello(first, middle, last):\n",
    "    print(\"Hello \"+first+\" \"+middle+\" \"+last)"
   ]
  },
  {
   "cell_type": "code",
   "execution_count": 7,
   "id": "0c5c0223",
   "metadata": {},
   "outputs": [
    {
     "name": "stdout",
     "output_type": "stream",
     "text": [
      "Hello Bro Dude Code\n"
     ]
    }
   ],
   "source": [
    "hello(first=\"Bro\", middle=\"Dude\", last=\"Code\")"
   ]
  },
  {
   "cell_type": "code",
   "execution_count": null,
   "id": "441c354d",
   "metadata": {},
   "outputs": [],
   "source": [
    "#Nested function calls = fucnction calls inside other function calls\n",
    "#innermost function calls are resolved first\n",
    "#returned value is used as argument for the next outer function"
   ]
  },
  {
   "cell_type": "code",
   "execution_count": null,
   "id": "9fd3b628",
   "metadata": {},
   "outputs": [],
   "source": [
    "#num = input(\"Enter a whole positive number: \"\n",
    "#num = float(num)\n",
    "#num = abs(num)\n",
    "#num = round(num)\n",
    "#print(num)"
   ]
  },
  {
   "cell_type": "code",
   "execution_count": null,
   "id": "61311513",
   "metadata": {},
   "outputs": [],
   "source": [
    "print(round(abs(float(input(\"Enter a positive number: \")))))"
   ]
  },
  {
   "cell_type": "code",
   "execution_count": null,
   "id": "e6611137",
   "metadata": {},
   "outputs": [],
   "source": [
    "#scope = The region that a variable is recognized \n",
    "#A variable is only available from inside the region it is created.\n",
    "#A global and locally scooped versions of a variable that can be created "
   ]
  },
  {
   "cell_type": "code",
   "execution_count": 1,
   "id": "7e293f06",
   "metadata": {},
   "outputs": [],
   "source": [
    "name = \"Bro\" #global scope (availabe inside & outside functions)"
   ]
  },
  {
   "cell_type": "code",
   "execution_count": 2,
   "id": "16a86c58",
   "metadata": {},
   "outputs": [],
   "source": [
    "def display_name():\n",
    "    name = \"Code\"    #local scope (available only inside this function)\n",
    "    print(name)"
   ]
  },
  {
   "cell_type": "code",
   "execution_count": 3,
   "id": "4089794e",
   "metadata": {},
   "outputs": [
    {
     "name": "stdout",
     "output_type": "stream",
     "text": [
      "Code\n",
      "Bro\n"
     ]
    }
   ],
   "source": [
    "display_name()\n",
    "print(name)"
   ]
  },
  {
   "cell_type": "code",
   "execution_count": 4,
   "id": "3069a286",
   "metadata": {},
   "outputs": [
    {
     "name": "stdout",
     "output_type": "stream",
     "text": [
      "Bro\n"
     ]
    }
   ],
   "source": [
    "print(name)"
   ]
  },
  {
   "cell_type": "code",
   "execution_count": null,
   "id": "e709498a",
   "metadata": {},
   "outputs": [],
   "source": [
    "#Python follows the LEGB rule - Local, Enclosing, Global, Built-in."
   ]
  }
 ],
 "metadata": {
  "kernelspec": {
   "display_name": "Python 3 (ipykernel)",
   "language": "python",
   "name": "python3"
  },
  "language_info": {
   "codemirror_mode": {
    "name": "ipython",
    "version": 3
   },
   "file_extension": ".py",
   "mimetype": "text/x-python",
   "name": "python",
   "nbconvert_exporter": "python",
   "pygments_lexer": "ipython3",
   "version": "3.11.5"
  }
 },
 "nbformat": 4,
 "nbformat_minor": 5
}
