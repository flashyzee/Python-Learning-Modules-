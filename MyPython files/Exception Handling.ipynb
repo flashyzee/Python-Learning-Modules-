{
 "cells": [
  {
   "cell_type": "code",
   "execution_count": null,
   "id": "094e4bf4",
   "metadata": {},
   "outputs": [],
   "source": [
    "#exception = events detected during execution that interrupt the flow of a program"
   ]
  },
  {
   "cell_type": "code",
   "execution_count": 15,
   "id": "7284426b",
   "metadata": {},
   "outputs": [
    {
     "name": "stdout",
     "output_type": "stream",
     "text": [
      "Enter a number to divide: 1\n",
      "Enter a number to divide by: 3\n",
      "0.3333333333333333\n",
      "0.3333333333333333\n",
      "This will always execute\n"
     ]
    }
   ],
   "source": [
    "try:\n",
    "    numerator = int(input(\"Enter a number to divide: \"))\n",
    "    denominator = int(input(\"Enter a number to divide by: \"))\n",
    "    result = numerator / denominator\n",
    "    print(result)\n",
    "\n",
    "except ZeroDivisionError as e:\n",
    "    print(e)\n",
    "    print(\"You can't divide by zero! idiot!\")\n",
    "    \n",
    "except ValueError as e:\n",
    "    print(e)\n",
    "    print(\"Enter only numbers plz\")\n",
    "    \n",
    "except Exception as e:\n",
    "    print(e)\n",
    "    print(\"something went wrong :(\")\n",
    "    \n",
    "else:\n",
    "    print(result)\n",
    "    \n",
    "finally:\n",
    "    print(\"This will always execute\")\n",
    "    "
   ]
  },
  {
   "cell_type": "code",
   "execution_count": null,
   "id": "633a9400",
   "metadata": {},
   "outputs": [],
   "source": []
  },
  {
   "cell_type": "code",
   "execution_count": null,
   "id": "d9a071ef",
   "metadata": {},
   "outputs": [],
   "source": []
  },
  {
   "cell_type": "code",
   "execution_count": null,
   "id": "608ed7d0",
   "metadata": {},
   "outputs": [],
   "source": []
  },
  {
   "cell_type": "code",
   "execution_count": null,
   "id": "52dcd5a8",
   "metadata": {},
   "outputs": [],
   "source": []
  },
  {
   "cell_type": "code",
   "execution_count": null,
   "id": "2e08756a",
   "metadata": {},
   "outputs": [],
   "source": []
  },
  {
   "cell_type": "code",
   "execution_count": null,
   "id": "17fa9be4",
   "metadata": {},
   "outputs": [],
   "source": []
  },
  {
   "cell_type": "code",
   "execution_count": null,
   "id": "b61d294d",
   "metadata": {},
   "outputs": [],
   "source": []
  }
 ],
 "metadata": {
  "kernelspec": {
   "display_name": "Python 3 (ipykernel)",
   "language": "python",
   "name": "python3"
  },
  "language_info": {
   "codemirror_mode": {
    "name": "ipython",
    "version": 3
   },
   "file_extension": ".py",
   "mimetype": "text/x-python",
   "name": "python",
   "nbconvert_exporter": "python",
   "pygments_lexer": "ipython3",
   "version": "3.11.5"
  }
 },
 "nbformat": 4,
 "nbformat_minor": 5
}
