{
 "cells": [
  {
   "cell_type": "code",
   "execution_count": 35,
   "id": "a2082257",
   "metadata": {},
   "outputs": [],
   "source": [
    "class Animal:\n",
    "    alive = True\n",
    "\n",
    "    def eat(self):\n",
    "        print(\"This animal is eating\")\n",
    "\n",
    "    def slumber(self):\n",
    "        print(\"This animal is sleeping\")\n",
    "\n",
    "class Rabbit(Animal):\n",
    "    def run(self):\n",
    "        print(\"This Rabbit is running\")\n",
    "\n",
    "class Fish(Animal):\n",
    "    def swim(self):\n",
    "        print(\"This Fish is swimming\")\n",
    "\n",
    "class Hawk(Animal):\n",
    "    def fly(self):\n",
    "        print(\"This Hawk is flying\")\n"
   ]
  },
  {
   "cell_type": "code",
   "execution_count": 36,
   "id": "86a33b36",
   "metadata": {},
   "outputs": [],
   "source": [
    "rabbit = Rabbit()\n",
    "fish = Fish()\n",
    "hawk = Hawk()"
   ]
  },
  {
   "cell_type": "code",
   "execution_count": 37,
   "id": "fc219413",
   "metadata": {},
   "outputs": [
    {
     "name": "stdout",
     "output_type": "stream",
     "text": [
      "True\n"
     ]
    }
   ],
   "source": [
    "print(rabbit.alive)"
   ]
  },
  {
   "cell_type": "code",
   "execution_count": 38,
   "id": "43a12c27",
   "metadata": {},
   "outputs": [
    {
     "name": "stdout",
     "output_type": "stream",
     "text": [
      "This animal is eating\n",
      "This Hawk is flying\n"
     ]
    }
   ],
   "source": [
    "fish.eat()\n",
    "hawk.fly()"
   ]
  },
  {
   "cell_type": "code",
   "execution_count": 29,
   "id": "352791d8",
   "metadata": {},
   "outputs": [
    {
     "name": "stdout",
     "output_type": "stream",
     "text": [
      "This Fish is swimming\n"
     ]
    }
   ],
   "source": [
    "fish.swim()"
   ]
  },
  {
   "cell_type": "code",
   "execution_count": null,
   "id": "4965dc8c",
   "metadata": {},
   "outputs": [],
   "source": [
    "#multi-level inheritance = when derived (child) class inherits another derived (child)"
   ]
  },
  {
   "cell_type": "code",
   "execution_count": 39,
   "id": "2d64fe15",
   "metadata": {},
   "outputs": [],
   "source": [
    "class Organism:\n",
    "    \n",
    "    alive = True \n",
    "    \n",
    "class Animal(Organism):\n",
    "    \n",
    "    def eat(self):\n",
    "        print(\"This animal is eating\")"
   ]
  },
  {
   "cell_type": "code",
   "execution_count": 40,
   "id": "2a80d842",
   "metadata": {},
   "outputs": [],
   "source": [
    "class Dog(Animal):\n",
    "    \n",
    "    def bark(self):\n",
    "        print(\"This dog is barking\")\n",
    "    "
   ]
  },
  {
   "cell_type": "code",
   "execution_count": 41,
   "id": "937442c1",
   "metadata": {},
   "outputs": [
    {
     "name": "stdout",
     "output_type": "stream",
     "text": [
      "True\n",
      "This animal is eating\n",
      "This dog is barking\n"
     ]
    }
   ],
   "source": [
    "dog = Dog()\n",
    "print(dog.alive)\n",
    "dog.eat()\n",
    "dog.bark()"
   ]
  },
  {
   "cell_type": "code",
   "execution_count": null,
   "id": "ff6bd57c",
   "metadata": {},
   "outputs": [],
   "source": [
    "#multiple inheritance = when a child class is derive from more than one parent class"
   ]
  },
  {
   "cell_type": "code",
   "execution_count": 42,
   "id": "b344b57f",
   "metadata": {},
   "outputs": [],
   "source": [
    "class Prey:\n",
    "    \n",
    "    def flee(self):\n",
    "        print(\"This animal flees\")\n",
    "        \n",
    "        \n",
    "class Predator:\n",
    "    \n",
    "    def hunt(self):\n",
    "        print(\"This animal is hunting\")\n",
    "        \n",
    "class Rabbit(Prey):\n",
    "    pass\n",
    "\n",
    "class Hawk(Predator):\n",
    "    pass\n",
    "\n",
    "class Fish(Prey, Predator):\n",
    "    pass"
   ]
  },
  {
   "cell_type": "code",
   "execution_count": 43,
   "id": "68bb2026",
   "metadata": {},
   "outputs": [],
   "source": [
    "rabbit = Rabbit()\n",
    "hawk = Hawk()\n",
    "fish = Fish()"
   ]
  },
  {
   "cell_type": "raw",
   "id": "51774f33",
   "metadata": {},
   "source": [
    "rabbit.flee()\n",
    "hawk.hunt()\n",
    "fish.flee()"
   ]
  },
  {
   "cell_type": "code",
   "execution_count": null,
   "id": "75efe794",
   "metadata": {},
   "outputs": [],
   "source": [
    "#Method Overiding is the process by which the program adheres to the most recent class that as been initiated with a print statement versus the parent class."
   ]
  },
  {
   "cell_type": "code",
   "execution_count": 56,
   "id": "45cf7298",
   "metadata": {},
   "outputs": [],
   "source": [
    "class Animal:\n",
    "    \n",
    "    def eat(self):\n",
    "        print(\"This animal is eating\")"
   ]
  },
  {
   "cell_type": "code",
   "execution_count": 75,
   "id": "97e3b78e",
   "metadata": {},
   "outputs": [
    {
     "name": "stdout",
     "output_type": "stream",
     "text": [
      "this rabbit is eating a carrot\n"
     ]
    }
   ],
   "source": [
    "class Rabbit(Animal):\n",
    "    \n",
    "    def eat(self):\n",
    "        print((\"This rabbit is eating a carrot\".lower()))\n",
    "        \n",
    "rabbit = Rabbit()\n",
    "rabbit.eat()"
   ]
  },
  {
   "cell_type": "code",
   "execution_count": 78,
   "id": "0ae7265a",
   "metadata": {},
   "outputs": [
    {
     "name": "stdout",
     "output_type": "stream",
     "text": [
      "this rabbit is eating a carrot\n"
     ]
    }
   ],
   "source": [
    "rabbit.eat()"
   ]
  }
 ],
 "metadata": {
  "kernelspec": {
   "display_name": "Python 3 (ipykernel)",
   "language": "python",
   "name": "python3"
  },
  "language_info": {
   "codemirror_mode": {
    "name": "ipython",
    "version": 3
   },
   "file_extension": ".py",
   "mimetype": "text/x-python",
   "name": "python",
   "nbconvert_exporter": "python",
   "pygments_lexer": "ipython3",
   "version": "3.11.5"
  }
 },
 "nbformat": 4,
 "nbformat_minor": 5
}
