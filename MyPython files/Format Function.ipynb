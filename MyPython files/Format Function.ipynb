{
 "cells": [
  {
   "cell_type": "code",
   "execution_count": null,
   "id": "156756de",
   "metadata": {},
   "outputs": [],
   "source": [
    "#Format() - Used to substitute a placeholder with values"
   ]
  },
  {
   "cell_type": "code",
   "execution_count": 1,
   "id": "a22bdaeb",
   "metadata": {},
   "outputs": [],
   "source": [
    "name = \"peter\"\n",
    "age = 20\n",
    "hobby = \"playing football\"\n",
    "message = \"my name is {}, I am {} years old and I love {}\".format(name, age, hobby)"
   ]
  },
  {
   "cell_type": "code",
   "execution_count": 2,
   "id": "a8b31202",
   "metadata": {},
   "outputs": [
    {
     "name": "stdout",
     "output_type": "stream",
     "text": [
      "my name is peter, I am 20 years old and I love playing football\n"
     ]
    }
   ],
   "source": [
    "print (message)"
   ]
  },
  {
   "cell_type": "code",
   "execution_count": 3,
   "id": "1c87a9ec",
   "metadata": {},
   "outputs": [],
   "source": [
    "message = \"my name is {1}, I am {0} years old and I love {2}\".format(name, age, hobby)"
   ]
  },
  {
   "cell_type": "code",
   "execution_count": 4,
   "id": "811ea53b",
   "metadata": {},
   "outputs": [
    {
     "name": "stdout",
     "output_type": "stream",
     "text": [
      "my name is 20, I am peter years old and I love playing football\n"
     ]
    }
   ],
   "source": [
    "print(message)"
   ]
  },
  {
   "cell_type": "code",
   "execution_count": null,
   "id": "d773678c",
   "metadata": {},
   "outputs": [],
   "source": []
  },
  {
   "cell_type": "code",
   "execution_count": null,
   "id": "0c4684b1",
   "metadata": {},
   "outputs": [],
   "source": []
  },
  {
   "cell_type": "code",
   "execution_count": null,
   "id": "e5c34bd7",
   "metadata": {},
   "outputs": [],
   "source": []
  },
  {
   "cell_type": "code",
   "execution_count": null,
   "id": "22321804",
   "metadata": {},
   "outputs": [],
   "source": []
  },
  {
   "cell_type": "code",
   "execution_count": null,
   "id": "d1acd278",
   "metadata": {},
   "outputs": [],
   "source": []
  },
  {
   "cell_type": "code",
   "execution_count": null,
   "id": "e22f67c4",
   "metadata": {},
   "outputs": [],
   "source": []
  }
 ],
 "metadata": {
  "kernelspec": {
   "display_name": "Python 3 (ipykernel)",
   "language": "python",
   "name": "python3"
  },
  "language_info": {
   "codemirror_mode": {
    "name": "ipython",
    "version": 3
   },
   "file_extension": ".py",
   "mimetype": "text/x-python",
   "name": "python",
   "nbconvert_exporter": "python",
   "pygments_lexer": "ipython3",
   "version": "3.11.5"
  }
 },
 "nbformat": 4,
 "nbformat_minor": 5
}
