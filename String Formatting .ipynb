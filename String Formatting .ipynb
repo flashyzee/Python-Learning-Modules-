{
 "cells": [
  {
   "cell_type": "code",
   "execution_count": null,
   "id": "1cb2338e",
   "metadata": {},
   "outputs": [],
   "source": [
    "#str.format() = optional method that gives users more control when displaying output"
   ]
  },
  {
   "cell_type": "code",
   "execution_count": 2,
   "id": "5f189339",
   "metadata": {},
   "outputs": [],
   "source": [
    "animal = \"cow\"\n",
    "item = \"moon\""
   ]
  },
  {
   "cell_type": "code",
   "execution_count": 3,
   "id": "752a8ce9",
   "metadata": {},
   "outputs": [
    {
     "name": "stdout",
     "output_type": "stream",
     "text": [
      "The cow jumped over the moon\n"
     ]
    }
   ],
   "source": [
    "print(\"The \"+animal+\" jumped over the \"+item)"
   ]
  },
  {
   "cell_type": "code",
   "execution_count": 7,
   "id": "b6f5d9bf",
   "metadata": {},
   "outputs": [
    {
     "name": "stdout",
     "output_type": "stream",
     "text": [
      "The cow jumped over the moon\n"
     ]
    }
   ],
   "source": [
    "print(\"The {} jumped over the {}\".format(\"cow\", \"moon\",))"
   ]
  },
  {
   "cell_type": "code",
   "execution_count": 8,
   "id": "6f5671bb",
   "metadata": {},
   "outputs": [
    {
     "name": "stdout",
     "output_type": "stream",
     "text": [
      "The cow jumped over the moon\n"
     ]
    }
   ],
   "source": [
    "print(\"The {} jumped over the {}\".format(animal, item)) #string format function"
   ]
  },
  {
   "cell_type": "code",
   "execution_count": 10,
   "id": "3e10186f",
   "metadata": {},
   "outputs": [
    {
     "name": "stdout",
     "output_type": "stream",
     "text": [
      "The moon jumped over the cow\n"
     ]
    }
   ],
   "source": [
    "print(\"The {1} jumped over the {0}\".format(animal, item)) #using positional argument"
   ]
  },
  {
   "cell_type": "code",
   "execution_count": 13,
   "id": "33309133",
   "metadata": {},
   "outputs": [
    {
     "name": "stdout",
     "output_type": "stream",
     "text": [
      "The cow jumped over the moon\n"
     ]
    }
   ],
   "source": [
    "print(\"The {animal} jumped over the {item}\".format(animal=\"cow\", item=\"moon\")) #keyword argument"
   ]
  },
  {
   "cell_type": "code",
   "execution_count": 14,
   "id": "03438261",
   "metadata": {},
   "outputs": [
    {
     "name": "stdout",
     "output_type": "stream",
     "text": [
      "The cow jumped over the moon\n"
     ]
    }
   ],
   "source": [
    "text = \"The {} jumped over the {}\"\n",
    "print(text.format(animal, item))"
   ]
  },
  {
   "cell_type": "code",
   "execution_count": null,
   "id": "056e9494",
   "metadata": {},
   "outputs": [],
   "source": [
    "#How to add Name padding"
   ]
  },
  {
   "cell_type": "code",
   "execution_count": 18,
   "id": "4d83b39f",
   "metadata": {},
   "outputs": [],
   "source": [
    "name = \"Bro\""
   ]
  },
  {
   "cell_type": "code",
   "execution_count": 22,
   "id": "9fd3fb0e",
   "metadata": {},
   "outputs": [
    {
     "name": "stdout",
     "output_type": "stream",
     "text": [
      "Hello, my name is Bro\n",
      "Hello, my name is Bro       . Nice to meet you\n",
      "Hello, my name is Bro       . Nice to meet you\n",
      "Hello, my name is        Bro. Nice to meet you\n",
      "Hello, my name is    Bro    . Nice to meet you\n"
     ]
    }
   ],
   "source": [
    "print(\"Hello, my name is {}\".format(name))\n",
    "print(\"Hello, my name is {:10}. Nice to meet you\".format(name))\n",
    "print(\"Hello, my name is {:<10}. Nice to meet you\".format(name))\n",
    "print(\"Hello, my name is {:>10}. Nice to meet you\".format(name))\n",
    "print(\"Hello, my name is {:^10}. Nice to meet you\".format(name))"
   ]
  },
  {
   "cell_type": "code",
   "execution_count": 24,
   "id": "97014d2b",
   "metadata": {},
   "outputs": [],
   "source": [
    "#How to format numbers"
   ]
  },
  {
   "cell_type": "code",
   "execution_count": 29,
   "id": "588db83e",
   "metadata": {},
   "outputs": [
    {
     "name": "stdout",
     "output_type": "stream",
     "text": [
      "The number pi is 3.14\n"
     ]
    }
   ],
   "source": [
    "number = 3.14159\n",
    "print(\"The number pi is {:.2f}\".format(number))"
   ]
  },
  {
   "cell_type": "code",
   "execution_count": 42,
   "id": "65a0ce2b",
   "metadata": {},
   "outputs": [
    {
     "name": "stdout",
     "output_type": "stream",
     "text": [
      "The number pi is 1000.000\n",
      "The number pi is 1,000\n",
      "The number pi is 1111101000\n",
      "The number pi is 1750\n",
      "The number pi is 3e8\n",
      "The number pi is 1.000000e+03\n"
     ]
    }
   ],
   "source": [
    "number = 1000\n",
    "print(\"The number pi is {:.3f}\".format(number))\n",
    "print(\"The number pi is {:,}\".format(number))\n",
    "print(\"The number pi is {:b}\".format(number))\n",
    "print(\"The number pi is {:o}\".format(number))\n",
    "print(\"The number pi is {:x}\".format(number))\n",
    "print(\"The number pi is {:e}\".format(number))"
   ]
  }
 ],
 "metadata": {
  "kernelspec": {
   "display_name": "Python 3 (ipykernel)",
   "language": "python",
   "name": "python3"
  },
  "language_info": {
   "codemirror_mode": {
    "name": "ipython",
    "version": 3
   },
   "file_extension": ".py",
   "mimetype": "text/x-python",
   "name": "python",
   "nbconvert_exporter": "python",
   "pygments_lexer": "ipython3",
   "version": "3.11.5"
  }
 },
 "nbformat": 4,
 "nbformat_minor": 5
}
