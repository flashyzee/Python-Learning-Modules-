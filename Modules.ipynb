{
 "cells": [
  {
   "cell_type": "code",
   "execution_count": 1,
   "id": "8a4cf0f4",
   "metadata": {},
   "outputs": [],
   "source": [
    "#module is a file containing python code. It may contain functions, classes, etc.\n",
    "#It is used with modular programming, which is to seperaate a program into parts"
   ]
  },
  {
   "cell_type": "code",
   "execution_count": 2,
   "id": "5bf601fe",
   "metadata": {},
   "outputs": [],
   "source": [
    "import os"
   ]
  },
  {
   "cell_type": "code",
   "execution_count": 3,
   "id": "31fd0fd0",
   "metadata": {},
   "outputs": [],
   "source": [
    "#import messages\n",
    "#messages.hello()"
   ]
  }
 ],
 "metadata": {
  "kernelspec": {
   "display_name": "Python 3 (ipykernel)",
   "language": "python",
   "name": "python3"
  },
  "language_info": {
   "codemirror_mode": {
    "name": "ipython",
    "version": 3
   },
   "file_extension": ".py",
   "mimetype": "text/x-python",
   "name": "python",
   "nbconvert_exporter": "python",
   "pygments_lexer": "ipython3",
   "version": "3.9.6"
  }
 },
 "nbformat": 4,
 "nbformat_minor": 5
}
